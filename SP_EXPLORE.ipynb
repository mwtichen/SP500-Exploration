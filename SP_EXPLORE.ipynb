{
 "cells": [
  {
   "cell_type": "markdown",
   "metadata": {},
   "source": [
    "# Exploratory Analysis of Stock Market Data"
   ]
  },
  {
   "cell_type": "markdown",
   "metadata": {},
   "source": [
    "In this project my goal is to better understand the dataset I've scraped and cleaned in the past 2 projects. Because there aren't any pressing questions to answer, my strategy here is to:\n",
    "\n",
    "* Create Histograms of interesting variables\n",
    "* Understand the relationship between interesting variables\n",
    "* Identify the characteristics of the best and worst performing stocks\n",
    "\n",
    "If you're not familiar with the abbreviations or have difficulty with a column name, please read the [Help section](https://finviz.com/help/screener.ashx) of the stock screener, from which I scraped."
   ]
  },
  {
   "cell_type": "markdown",
   "metadata": {},
   "source": [
    "I'll start off by importing libraries."
   ]
  },
  {
   "cell_type": "code",
   "execution_count": 1,
   "metadata": {
    "collapsed": true
   },
   "outputs": [],
   "source": [
    "import pandas as pd\n",
    "import matplotlib.pyplot as plt\n",
    "%matplotlib inline"
   ]
  },
  {
   "cell_type": "markdown",
   "metadata": {},
   "source": [
    "Then importing the dataset and printing the first few rows."
   ]
  },
  {
   "cell_type": "code",
   "execution_count": 2,
   "metadata": {},
   "outputs": [
    {
     "data": {
      "text/html": [
       "<div>\n",
       "<style>\n",
       "    .dataframe thead tr:only-child th {\n",
       "        text-align: right;\n",
       "    }\n",
       "\n",
       "    .dataframe thead th {\n",
       "        text-align: left;\n",
       "    }\n",
       "\n",
       "    .dataframe tbody tr th {\n",
       "        vertical-align: top;\n",
       "    }\n",
       "</style>\n",
       "<table border=\"1\" class=\"dataframe\">\n",
       "  <thead>\n",
       "    <tr style=\"text-align: right;\">\n",
       "      <th></th>\n",
       "      <th>P/E</th>\n",
       "      <th>EPS (ttm)</th>\n",
       "      <th>Insider Own</th>\n",
       "      <th>Shs Outstand</th>\n",
       "      <th>Perf Week</th>\n",
       "      <th>Market Cap</th>\n",
       "      <th>Forward P/E</th>\n",
       "      <th>EPS next Y</th>\n",
       "      <th>Insider Trans</th>\n",
       "      <th>Shs Float</th>\n",
       "      <th>...</th>\n",
       "      <th>SMA20</th>\n",
       "      <th>SMA50</th>\n",
       "      <th>SMA200</th>\n",
       "      <th>Volume</th>\n",
       "      <th>Change</th>\n",
       "      <th>avg_daily_high_range</th>\n",
       "      <th>avg_daily_low_range</th>\n",
       "      <th>Earnings_BMO</th>\n",
       "      <th>Earnings_AMC</th>\n",
       "      <th>DJIA</th>\n",
       "    </tr>\n",
       "  </thead>\n",
       "  <tbody>\n",
       "    <tr>\n",
       "      <th>A</th>\n",
       "      <td>24.42</td>\n",
       "      <td>2.68</td>\n",
       "      <td>0.0030</td>\n",
       "      <td>3.219200e+08</td>\n",
       "      <td>-0.0153</td>\n",
       "      <td>2.107000e+10</td>\n",
       "      <td>19.41</td>\n",
       "      <td>3.37</td>\n",
       "      <td>-0.0517</td>\n",
       "      <td>3.178900e+08</td>\n",
       "      <td>...</td>\n",
       "      <td>-0.0354</td>\n",
       "      <td>-0.0213</td>\n",
       "      <td>-0.0122</td>\n",
       "      <td>3119738.0</td>\n",
       "      <td>0.0346</td>\n",
       "      <td>0.0296</td>\n",
       "      <td>0.0314</td>\n",
       "      <td>0</td>\n",
       "      <td>1</td>\n",
       "      <td>0</td>\n",
       "    </tr>\n",
       "    <tr>\n",
       "      <th>AA</th>\n",
       "      <td>977.24</td>\n",
       "      <td>0.03</td>\n",
       "      <td>0.0010</td>\n",
       "      <td>1.956900e+08</td>\n",
       "      <td>0.0434</td>\n",
       "      <td>5.550000e+09</td>\n",
       "      <td>8.01</td>\n",
       "      <td>3.54</td>\n",
       "      <td>0.0000</td>\n",
       "      <td>1.859900e+08</td>\n",
       "      <td>...</td>\n",
       "      <td>0.0206</td>\n",
       "      <td>-0.1095</td>\n",
       "      <td>-0.3325</td>\n",
       "      <td>5652866.0</td>\n",
       "      <td>0.0800</td>\n",
       "      <td>0.0522</td>\n",
       "      <td>0.0511</td>\n",
       "      <td>0</td>\n",
       "      <td>1</td>\n",
       "      <td>0</td>\n",
       "    </tr>\n",
       "    <tr>\n",
       "      <th>AAL</th>\n",
       "      <td>6.94</td>\n",
       "      <td>4.62</td>\n",
       "      <td>0.0020</td>\n",
       "      <td>4.770100e+08</td>\n",
       "      <td>0.0000</td>\n",
       "      <td>1.528000e+10</td>\n",
       "      <td>5.63</td>\n",
       "      <td>5.69</td>\n",
       "      <td>0.0438</td>\n",
       "      <td>4.575900e+08</td>\n",
       "      <td>...</td>\n",
       "      <td>-0.0225</td>\n",
       "      <td>-0.0781</td>\n",
       "      <td>-0.1946</td>\n",
       "      <td>9344567.0</td>\n",
       "      <td>0.0659</td>\n",
       "      <td>0.0554</td>\n",
       "      <td>0.0530</td>\n",
       "      <td>1</td>\n",
       "      <td>0</td>\n",
       "      <td>0</td>\n",
       "    </tr>\n",
       "    <tr>\n",
       "      <th>AAP</th>\n",
       "      <td>34.34</td>\n",
       "      <td>4.63</td>\n",
       "      <td>0.0010</td>\n",
       "      <td>7.411000e+07</td>\n",
       "      <td>0.0266</td>\n",
       "      <td>1.177000e+10</td>\n",
       "      <td>19.50</td>\n",
       "      <td>8.14</td>\n",
       "      <td>0.0027</td>\n",
       "      <td>7.268000e+07</td>\n",
       "      <td>...</td>\n",
       "      <td>-0.0136</td>\n",
       "      <td>-0.0501</td>\n",
       "      <td>0.0871</td>\n",
       "      <td>1423037.0</td>\n",
       "      <td>-0.0248</td>\n",
       "      <td>0.0318</td>\n",
       "      <td>0.0320</td>\n",
       "      <td>1</td>\n",
       "      <td>0</td>\n",
       "      <td>0</td>\n",
       "    </tr>\n",
       "    <tr>\n",
       "      <th>AAPL</th>\n",
       "      <td>12.21</td>\n",
       "      <td>12.15</td>\n",
       "      <td>0.0007</td>\n",
       "      <td>4.870000e+09</td>\n",
       "      <td>-0.0505</td>\n",
       "      <td>7.222400e+11</td>\n",
       "      <td>10.13</td>\n",
       "      <td>14.64</td>\n",
       "      <td>-0.1491</td>\n",
       "      <td>4.740000e+09</td>\n",
       "      <td>...</td>\n",
       "      <td>-0.0838</td>\n",
       "      <td>-0.1921</td>\n",
       "      <td>-0.2319</td>\n",
       "      <td>57275863.0</td>\n",
       "      <td>0.0427</td>\n",
       "      <td>0.0267</td>\n",
       "      <td>0.0341</td>\n",
       "      <td>0</td>\n",
       "      <td>1</td>\n",
       "      <td>1</td>\n",
       "    </tr>\n",
       "  </tbody>\n",
       "</table>\n",
       "<p>5 rows × 74 columns</p>\n",
       "</div>"
      ],
      "text/plain": [
       "         P/E  EPS (ttm)  Insider Own  Shs Outstand  Perf Week    Market Cap  \\\n",
       "A      24.42       2.68       0.0030  3.219200e+08    -0.0153  2.107000e+10   \n",
       "AA    977.24       0.03       0.0010  1.956900e+08     0.0434  5.550000e+09   \n",
       "AAL     6.94       4.62       0.0020  4.770100e+08     0.0000  1.528000e+10   \n",
       "AAP    34.34       4.63       0.0010  7.411000e+07     0.0266  1.177000e+10   \n",
       "AAPL   12.21      12.15       0.0007  4.870000e+09    -0.0505  7.222400e+11   \n",
       "\n",
       "      Forward P/E  EPS next Y  Insider Trans     Shs Float  ...    SMA20  \\\n",
       "A           19.41        3.37        -0.0517  3.178900e+08  ...  -0.0354   \n",
       "AA           8.01        3.54         0.0000  1.859900e+08  ...   0.0206   \n",
       "AAL          5.63        5.69         0.0438  4.575900e+08  ...  -0.0225   \n",
       "AAP         19.50        8.14         0.0027  7.268000e+07  ...  -0.0136   \n",
       "AAPL        10.13       14.64        -0.1491  4.740000e+09  ...  -0.0838   \n",
       "\n",
       "       SMA50  SMA200      Volume  Change  avg_daily_high_range  \\\n",
       "A    -0.0213 -0.0122   3119738.0  0.0346                0.0296   \n",
       "AA   -0.1095 -0.3325   5652866.0  0.0800                0.0522   \n",
       "AAL  -0.0781 -0.1946   9344567.0  0.0659                0.0554   \n",
       "AAP  -0.0501  0.0871   1423037.0 -0.0248                0.0318   \n",
       "AAPL -0.1921 -0.2319  57275863.0  0.0427                0.0267   \n",
       "\n",
       "      avg_daily_low_range  Earnings_BMO  Earnings_AMC  DJIA  \n",
       "A                  0.0314             0             1     0  \n",
       "AA                 0.0511             0             1     0  \n",
       "AAL                0.0530             1             0     0  \n",
       "AAP                0.0320             1             0     0  \n",
       "AAPL               0.0341             0             1     1  \n",
       "\n",
       "[5 rows x 74 columns]"
      ]
     },
     "execution_count": 2,
     "metadata": {},
     "output_type": "execute_result"
    }
   ],
   "source": [
    "df = pd.read_csv(\"clean_sp500.csv\",index_col=0)\n",
    "df.head()"
   ]
  },
  {
   "cell_type": "markdown",
   "metadata": {},
   "source": [
    "During cleaning, I did not impute missing values. Here's a count of the missing values, by column."
   ]
  },
  {
   "cell_type": "code",
   "execution_count": 43,
   "metadata": {},
   "outputs": [
    {
     "data": {
      "text/plain": [
       "P/E                     38\n",
       "EPS (ttm)                0\n",
       "Insider Own              4\n",
       "Shs Outstand             4\n",
       "Perf Week                0\n",
       "Market Cap               4\n",
       "Forward P/E              6\n",
       "EPS next Y               4\n",
       "Insider Trans           18\n",
       "Shs Float                1\n",
       "Perf Month               0\n",
       "Income                   8\n",
       "PEG                     59\n",
       "EPS next Q               4\n",
       "Inst Own                48\n",
       "Short Float              1\n",
       "Perf Quarter             1\n",
       "Sales                    0\n",
       "P/S                      4\n",
       "EPS this Y               5\n",
       "Inst Trans              10\n",
       "Short Ratio              0\n",
       "Perf Half Y              1\n",
       "Book/sh                  0\n",
       "P/B                     24\n",
       "EPS next Y.1             4\n",
       "ROA                     16\n",
       "Target Price             1\n",
       "Perf Year                1\n",
       "Cash/sh                 35\n",
       "                        ..\n",
       "ATR                      0\n",
       "Employees                0\n",
       "Current Ratio           95\n",
       "Sales Q/Q                0\n",
       "Oper. Margin            15\n",
       "RSI (14)                 0\n",
       "Optionable               0\n",
       "Debt/Eq                 31\n",
       "EPS Q/Q                 11\n",
       "Profit Margin           16\n",
       "Rel Volume               0\n",
       "Prev Close               0\n",
       "Shortable                0\n",
       "LT Debt/Eq              31\n",
       "Earnings                 0\n",
       "Payout                  53\n",
       "Avg Volume               0\n",
       "Price                    0\n",
       "Recom                    1\n",
       "SMA20                    0\n",
       "SMA50                    0\n",
       "SMA200                   0\n",
       "Volume                   0\n",
       "Change                   0\n",
       "avg_daily_high_range     0\n",
       "avg_daily_low_range      0\n",
       "Earnings_BMO             0\n",
       "Earnings_AMC             0\n",
       "DJIA                     0\n",
       "EPS Diff                 6\n",
       "Length: 75, dtype: int64"
      ]
     },
     "execution_count": 43,
     "metadata": {},
     "output_type": "execute_result"
    }
   ],
   "source": [
    "df.isnull().sum()"
   ]
  },
  {
   "cell_type": "markdown",
   "metadata": {},
   "source": [
    "## Winners and Losers"
   ]
  },
  {
   "cell_type": "code",
   "execution_count": 4,
   "metadata": {},
   "outputs": [
    {
     "data": {
      "text/plain": [
       "AAP     0.4835\n",
       "TRIP    0.5419\n",
       "ABMD    0.6007\n",
       "AMD     0.6450\n",
       "FOSL    0.9412\n",
       "Name: Perf Year, dtype: float64"
      ]
     },
     "execution_count": 4,
     "metadata": {},
     "output_type": "execute_result"
    }
   ],
   "source": [
    "df.loc[~df['Perf Year'].isnull(),'Perf Year'].sort_values().tail()"
   ]
  },
  {
   "cell_type": "markdown",
   "metadata": {},
   "source": [
    "The best performing stock was Fossil Group, Inc. (FOSL)."
   ]
  },
  {
   "cell_type": "code",
   "execution_count": 5,
   "metadata": {},
   "outputs": [
    {
     "data": {
      "text/plain": [
       "DLPH   -0.7280\n",
       "MHK    -0.5561\n",
       "WDC    -0.5505\n",
       "GE     -0.5466\n",
       "IVZ    -0.5275\n",
       "Name: Perf Year, dtype: float64"
      ]
     },
     "execution_count": 5,
     "metadata": {},
     "output_type": "execute_result"
    }
   ],
   "source": [
    "df.loc[~df['Perf Year'].isnull(),'Perf Year'].sort_values().head()"
   ]
  },
  {
   "cell_type": "markdown",
   "metadata": {},
   "source": [
    "The worst performing stock, by far, was Delphi Technologies PLC (DLPH)."
   ]
  },
  {
   "cell_type": "markdown",
   "metadata": {},
   "source": [
    "## Univariate Plots"
   ]
  },
  {
   "cell_type": "markdown",
   "metadata": {},
   "source": [
    "In this section, I'll plot the distribution of a few variables, but emphasize the values that FOSL and DLPH take on by plotting blue and black verticle lines.\n",
    "\n",
    "FYI, despite what the code says, the histograms are salmon, not pink."
   ]
  },
  {
   "cell_type": "code",
   "execution_count": 6,
   "metadata": {},
   "outputs": [
    {
     "data": {
      "image/png": "[encoded data removed]",
      "text/plain": [
       "<matplotlib.figure.Figure at 0x261df112ba8>"
      ]
     },
     "metadata": {},
     "output_type": "display_data"
    }
   ],
   "source": [
    "plt.figure(figsize=(8,6))\n",
    "df['Price'].hist(bins=30,color=\"pink\",grid=False)\n",
    "plt.axvline(df.loc['FOSL','Price'],color=\"blue\")\n",
    "plt.axvline(df.loc['DLPH','Price'],color=\"black\")\n",
    "plt.show()"
   ]
  },
  {
   "cell_type": "markdown",
   "metadata": {},
   "source": [
    "The stock price is very right skewed. Most stocks are priced under \\$250, but there are a few stocks that are more than \\$1,000 per share!\n",
    "\n",
    "The best and worst performers, FOSL and DLPH, have nearly the same price."
   ]
  },
  {
   "cell_type": "code",
   "execution_count": 7,
   "metadata": {},
   "outputs": [
    {
     "data": {
      "image/png": "[encoded data removed]",
      "text/plain": [
       "<matplotlib.figure.Figure at 0x261e0176c18>"
      ]
     },
     "metadata": {},
     "output_type": "display_data"
    }
   ],
   "source": [
    "plt.figure(figsize=(8,6))\n",
    "df['Avg Volume'].hist(bins=30,color=\"pink\",grid=False)\n",
    "plt.axvline(df.loc['FOSL','Avg Volume'],color=\"blue\")\n",
    "plt.axvline(df.loc['DLPH','Avg Volume'],color=\"black\")\n",
    "plt.show()"
   ]
  },
  {
   "cell_type": "markdown",
   "metadata": {},
   "source": [
    "The Average Volume is also right skewed, where the majority of stocks have an Average Volume less than 2,000,000 (0.2 8 10^8) transactions per day, though there are a few highly traded stocks.\n",
    "\n",
    "Again, there's not much of a difference between FOSL and DLPH."
   ]
  },
  {
   "cell_type": "code",
   "execution_count": 8,
   "metadata": {},
   "outputs": [
    {
     "data": {
      "image/png": "[encoded data removed]",
      "text/plain": [
       "<matplotlib.figure.Figure at 0x261e0393588>"
      ]
     },
     "metadata": {},
     "output_type": "display_data"
    }
   ],
   "source": [
    "plt.figure(figsize=(8,6))\n",
    "df['EPS this Y'].hist(bins=30,color=\"pink\",grid=False)\n",
    "plt.axvline(df.loc['FOSL','EPS this Y'],color=\"blue\")\n",
    "plt.axvline(df.loc['DLPH','EPS this Y'],color=\"black\")\n",
    "plt.show()"
   ]
  },
  {
   "cell_type": "markdown",
   "metadata": {},
   "source": [
    "Unlike Average Volume and Price, the EPS this Year has a symmetric distribution, centered close to 0.\n",
    "\n",
    "Interestingly, the best performer, FOSL, had a very negative EPS this Year, while the worst performer, DLPH, had an EPS this Year closer to the mean.\n",
    "\n",
    "Word on the street is that markets are forward looking, so I'll check out the EPS *next* Year."
   ]
  },
  {
   "cell_type": "code",
   "execution_count": 9,
   "metadata": {},
   "outputs": [
    {
     "data": {
      "image/png": "[encoded data removed]",
      "text/plain": [
       "<matplotlib.figure.Figure at 0x261e1668ac8>"
      ]
     },
     "metadata": {},
     "output_type": "display_data"
    }
   ],
   "source": [
    "plt.figure(figsize=(8,6))\n",
    "df['EPS next Y'].hist(bins=30,color=\"pink\",grid=False)\n",
    "plt.axvline(df.loc['FOSL','EPS next Y'],color=\"blue\")\n",
    "plt.axvline(df.loc['DLPH','EPS next Y'],color=\"black\")\n",
    "plt.show()"
   ]
  },
  {
   "cell_type": "markdown",
   "metadata": {},
   "source": [
    "Now, we see something intersting. FOSL had a very negative EPS this Year, but the EPS next Year is expected to be positive.\n",
    "\n",
    "The worst perfomer, DLPH, had an EPS next Year that was also close to the mean, and possibly close to the EPS this Year.\n",
    "\n",
    "Investigating this further, I'll make a new variable, EPS Diff, which takes the difference between these values."
   ]
  },
  {
   "cell_type": "code",
   "execution_count": 10,
   "metadata": {
    "collapsed": true
   },
   "outputs": [],
   "source": [
    "df['EPS Diff'] = df['EPS next Y'] - df['EPS this Y']"
   ]
  },
  {
   "cell_type": "code",
   "execution_count": 11,
   "metadata": {},
   "outputs": [
    {
     "data": {
      "image/png": "[encoded data removed]",
      "text/plain": [
       "<matplotlib.figure.Figure at 0x261e1782588>"
      ]
     },
     "metadata": {},
     "output_type": "display_data"
    }
   ],
   "source": [
    "plt.figure(figsize=(8,6))\n",
    "df['EPS Diff'].hist(bins=30,color=\"pink\",grid=False)\n",
    "plt.axvline(df.loc['FOSL','EPS Diff'],color=\"blue\")\n",
    "plt.axvline(df.loc['DLPH','EPS Diff'],color=\"black\")\n",
    "plt.show()"
   ]
  },
  {
   "cell_type": "markdown",
   "metadata": {},
   "source": [
    "Hmm... not exactly what I was expecting. Still, I wonder which stock has the extreme value on the right."
   ]
  },
  {
   "cell_type": "code",
   "execution_count": 12,
   "metadata": {},
   "outputs": [
    {
     "data": {
      "text/html": [
       "<div>\n",
       "<style>\n",
       "    .dataframe thead tr:only-child th {\n",
       "        text-align: right;\n",
       "    }\n",
       "\n",
       "    .dataframe thead th {\n",
       "        text-align: left;\n",
       "    }\n",
       "\n",
       "    .dataframe tbody tr th {\n",
       "        vertical-align: top;\n",
       "    }\n",
       "</style>\n",
       "<table border=\"1\" class=\"dataframe\">\n",
       "  <thead>\n",
       "    <tr style=\"text-align: right;\">\n",
       "      <th></th>\n",
       "      <th>EPS Diff</th>\n",
       "      <th>Perf Year</th>\n",
       "    </tr>\n",
       "  </thead>\n",
       "  <tbody>\n",
       "    <tr>\n",
       "      <th>BLK</th>\n",
       "      <td>27.578</td>\n",
       "      <td>-0.2382</td>\n",
       "    </tr>\n",
       "    <tr>\n",
       "      <th>BIIB</th>\n",
       "      <td>28.010</td>\n",
       "      <td>-0.0633</td>\n",
       "    </tr>\n",
       "    <tr>\n",
       "      <th>GOOGL</th>\n",
       "      <td>47.096</td>\n",
       "      <td>-0.0123</td>\n",
       "    </tr>\n",
       "    <tr>\n",
       "      <th>AZO</th>\n",
       "      <td>62.951</td>\n",
       "      <td>0.1150</td>\n",
       "    </tr>\n",
       "    <tr>\n",
       "      <th>BKNG</th>\n",
       "      <td>101.322</td>\n",
       "      <td>-0.0584</td>\n",
       "    </tr>\n",
       "  </tbody>\n",
       "</table>\n",
       "</div>"
      ],
      "text/plain": [
       "       EPS Diff  Perf Year\n",
       "BLK      27.578    -0.2382\n",
       "BIIB     28.010    -0.0633\n",
       "GOOGL    47.096    -0.0123\n",
       "AZO      62.951     0.1150\n",
       "BKNG    101.322    -0.0584"
      ]
     },
     "execution_count": 12,
     "metadata": {},
     "output_type": "execute_result"
    }
   ],
   "source": [
    "df.loc[~df['EPS Diff'].isnull(),['EPS Diff','Perf Year']].sort_values(by='EPS Diff').tail()"
   ]
  },
  {
   "cell_type": "markdown",
   "metadata": {},
   "source": [
    "The EPS Diff column doesn't seem to be a good predictor of performance.\n",
    "\n",
    "At this point, I'm starting to look at the relationship between multiple variables. In the next section, I'll look at correlations."
   ]
  },
  {
   "cell_type": "markdown",
   "metadata": {},
   "source": [
    "## Correlations"
   ]
  },
  {
   "cell_type": "markdown",
   "metadata": {},
   "source": [
    "There are a few columns in the clean dataset which are categorical. I'll need to look at all the column names, then remove those which aren't numeric."
   ]
  },
  {
   "cell_type": "code",
   "execution_count": 13,
   "metadata": {},
   "outputs": [
    {
     "data": {
      "text/plain": [
       "Index(['P/E', 'EPS (ttm)', 'Insider Own', 'Shs Outstand', 'Perf Week',\n",
       "       'Market Cap', 'Forward P/E', 'EPS next Y', 'Insider Trans', 'Shs Float',\n",
       "       'Perf Month', 'Income', 'PEG', 'EPS next Q', 'Inst Own', 'Short Float',\n",
       "       'Perf Quarter', 'Sales', 'P/S', 'EPS this Y', 'Inst Trans',\n",
       "       'Short Ratio', 'Perf Half Y', 'Book/sh', 'P/B', 'EPS next Y.1', 'ROA',\n",
       "       'Target Price', 'Perf Year', 'Cash/sh', 'P/C', 'EPS next 5Y', 'ROE',\n",
       "       'Perf YTD', 'Dividend', 'P/FCF', 'EPS past 5Y', 'ROI', '52W High',\n",
       "       'Beta', 'Dividend %', 'Quick Ratio', 'Sales past 5Y', 'Gross Margin',\n",
       "       '52W Low', 'ATR', 'Employees', 'Current Ratio', 'Sales Q/Q',\n",
       "       'Oper. Margin', 'RSI (14)', 'Optionable', 'Debt/Eq', 'EPS Q/Q',\n",
       "       'Profit Margin', 'Rel Volume', 'Prev Close', 'Shortable', 'LT Debt/Eq',\n",
       "       'Earnings', 'Payout', 'Avg Volume', 'Price', 'Recom', 'SMA20', 'SMA50',\n",
       "       'SMA200', 'Volume', 'Change', 'avg_daily_high_range',\n",
       "       'avg_daily_low_range', 'Earnings_BMO', 'Earnings_AMC', 'DJIA',\n",
       "       'EPS Diff'],\n",
       "      dtype='object')"
      ]
     },
     "execution_count": 13,
     "metadata": {},
     "output_type": "execute_result"
    }
   ],
   "source": [
    "df.columns"
   ]
  },
  {
   "cell_type": "markdown",
   "metadata": {},
   "source": [
    "Optionable, Shortable, Earnings_BMO, Earning_AMC, and DJIA are all indicator columns where it doesn't make sense to calculate the correlation coefficient.\n",
    "\n",
    "I'll turn the column names to a list, then remove the categorical columns."
   ]
  },
  {
   "cell_type": "code",
   "execution_count": 14,
   "metadata": {
    "collapsed": true
   },
   "outputs": [],
   "source": [
    "cols = df.columns.tolist()\n",
    "cols.remove('Optionable')\n",
    "cols.remove('Shortable')\n",
    "cols.remove('Earnings_BMO')\n",
    "cols.remove('Earnings_AMC')\n",
    "cols.remove('DJIA')"
   ]
  },
  {
   "cell_type": "markdown",
   "metadata": {},
   "source": [
    "Now, I can focus on correlations. I'll calculate the correlation matrix, then use the seaborn library to easily make a heatmap."
   ]
  },
  {
   "cell_type": "code",
   "execution_count": 15,
   "metadata": {},
   "outputs": [
    {
     "data": {
      "image/png": "[encoded data removed]",
      "text/plain": [
       "<matplotlib.figure.Figure at 0x261df0ec470>"
      ]
     },
     "metadata": {},
     "output_type": "display_data"
    }
   ],
   "source": [
    "import seaborn as sns\n",
    "fig = plt.figure(figsize=(14,12))\n",
    "sns.heatmap(df[cols].corr())\n",
    "plt.show()"
   ]
  },
  {
   "cell_type": "markdown",
   "metadata": {},
   "source": [
    "Focusing on the Perf Year variable, i.e. the yearly performance of the stock, we can see some obvious correlations with Perf Half Y, 52W High, 52W Low, and SMA200.\n",
    "\n",
    "SMA200 is the percentage above the 200 day moving average, so it makes sense that a stock, with a price greater than it's long term trend will have a high yearly performance to date."
   ]
  },
  {
   "cell_type": "code",
   "execution_count": 16,
   "metadata": {},
   "outputs": [
    {
     "data": {
      "text/html": [
       "<div>\n",
       "<style>\n",
       "    .dataframe thead tr:only-child th {\n",
       "        text-align: right;\n",
       "    }\n",
       "\n",
       "    .dataframe thead th {\n",
       "        text-align: left;\n",
       "    }\n",
       "\n",
       "    .dataframe tbody tr th {\n",
       "        vertical-align: top;\n",
       "    }\n",
       "</style>\n",
       "<table border=\"1\" class=\"dataframe\">\n",
       "  <thead>\n",
       "    <tr style=\"text-align: right;\">\n",
       "      <th></th>\n",
       "      <th>Perf Year</th>\n",
       "      <th>SMA200</th>\n",
       "    </tr>\n",
       "  </thead>\n",
       "  <tbody>\n",
       "    <tr>\n",
       "      <th>Perf Year</th>\n",
       "      <td>1.000000</td>\n",
       "      <td>0.733483</td>\n",
       "    </tr>\n",
       "    <tr>\n",
       "      <th>SMA200</th>\n",
       "      <td>0.733483</td>\n",
       "      <td>1.000000</td>\n",
       "    </tr>\n",
       "  </tbody>\n",
       "</table>\n",
       "</div>"
      ],
      "text/plain": [
       "           Perf Year    SMA200\n",
       "Perf Year   1.000000  0.733483\n",
       "SMA200      0.733483  1.000000"
      ]
     },
     "execution_count": 16,
     "metadata": {},
     "output_type": "execute_result"
    }
   ],
   "source": [
    "df[['Perf Year','SMA200']].corr()"
   ]
  },
  {
   "cell_type": "markdown",
   "metadata": {},
   "source": [
    "Looking at the Price there are the obvious correlations with Prev Close and Dividend. \n",
    "\n",
    "There's a high correlation between Price and ATR. The ATR is a 14-day exponential moving average the stocks trading range, and if higher priced stocks have larger trading ranges, then this variable makes perfect sense.\n",
    "\n",
    "*Note to self: Look into this hypotheis*."
   ]
  },
  {
   "cell_type": "code",
   "execution_count": 17,
   "metadata": {},
   "outputs": [
    {
     "data": {
      "text/html": [
       "<div>\n",
       "<style>\n",
       "    .dataframe thead tr:only-child th {\n",
       "        text-align: right;\n",
       "    }\n",
       "\n",
       "    .dataframe thead th {\n",
       "        text-align: left;\n",
       "    }\n",
       "\n",
       "    .dataframe tbody tr th {\n",
       "        vertical-align: top;\n",
       "    }\n",
       "</style>\n",
       "<table border=\"1\" class=\"dataframe\">\n",
       "  <thead>\n",
       "    <tr style=\"text-align: right;\">\n",
       "      <th></th>\n",
       "      <th>Price</th>\n",
       "      <th>ATR</th>\n",
       "    </tr>\n",
       "  </thead>\n",
       "  <tbody>\n",
       "    <tr>\n",
       "      <th>Price</th>\n",
       "      <td>1.000000</td>\n",
       "      <td>0.973204</td>\n",
       "    </tr>\n",
       "    <tr>\n",
       "      <th>ATR</th>\n",
       "      <td>0.973204</td>\n",
       "      <td>1.000000</td>\n",
       "    </tr>\n",
       "  </tbody>\n",
       "</table>\n",
       "</div>"
      ],
      "text/plain": [
       "          Price       ATR\n",
       "Price  1.000000  0.973204\n",
       "ATR    0.973204  1.000000"
      ]
     },
     "execution_count": 17,
     "metadata": {},
     "output_type": "execute_result"
    }
   ],
   "source": [
    "df[['Price','ATR']].corr()"
   ]
  },
  {
   "cell_type": "markdown",
   "metadata": {},
   "source": [
    "The Price is also highly correlated with the EPS next Y. This fits very nicely with the *forward-looking* hypothesis for the stock market."
   ]
  },
  {
   "cell_type": "code",
   "execution_count": 18,
   "metadata": {},
   "outputs": [
    {
     "data": {
      "text/html": [
       "<div>\n",
       "<style>\n",
       "    .dataframe thead tr:only-child th {\n",
       "        text-align: right;\n",
       "    }\n",
       "\n",
       "    .dataframe thead th {\n",
       "        text-align: left;\n",
       "    }\n",
       "\n",
       "    .dataframe tbody tr th {\n",
       "        vertical-align: top;\n",
       "    }\n",
       "</style>\n",
       "<table border=\"1\" class=\"dataframe\">\n",
       "  <thead>\n",
       "    <tr style=\"text-align: right;\">\n",
       "      <th></th>\n",
       "      <th>Price</th>\n",
       "      <th>EPS next Y</th>\n",
       "    </tr>\n",
       "  </thead>\n",
       "  <tbody>\n",
       "    <tr>\n",
       "      <th>Price</th>\n",
       "      <td>1.00000</td>\n",
       "      <td>0.82382</td>\n",
       "    </tr>\n",
       "    <tr>\n",
       "      <th>EPS next Y</th>\n",
       "      <td>0.82382</td>\n",
       "      <td>1.00000</td>\n",
       "    </tr>\n",
       "  </tbody>\n",
       "</table>\n",
       "</div>"
      ],
      "text/plain": [
       "              Price  EPS next Y\n",
       "Price       1.00000     0.82382\n",
       "EPS next Y  0.82382     1.00000"
      ]
     },
     "execution_count": 18,
     "metadata": {},
     "output_type": "execute_result"
    }
   ],
   "source": [
    "df[['Price','EPS next Y']].corr()"
   ]
  },
  {
   "cell_type": "markdown",
   "metadata": {},
   "source": [
    "However, the EPS (ttm) variable is not *forward-looking*, but it is correlated with price.\n",
    "\n",
    "EPS (ttm) is defined to be the total earnings in the past 12 months, divided by the total number of shares.\n",
    "\n",
    "While this is not the highest correlation, it surely means that earnings is factored into the price."
   ]
  },
  {
   "cell_type": "code",
   "execution_count": 19,
   "metadata": {},
   "outputs": [
    {
     "data": {
      "text/html": [
       "<div>\n",
       "<style>\n",
       "    .dataframe thead tr:only-child th {\n",
       "        text-align: right;\n",
       "    }\n",
       "\n",
       "    .dataframe thead th {\n",
       "        text-align: left;\n",
       "    }\n",
       "\n",
       "    .dataframe tbody tr th {\n",
       "        vertical-align: top;\n",
       "    }\n",
       "</style>\n",
       "<table border=\"1\" class=\"dataframe\">\n",
       "  <thead>\n",
       "    <tr style=\"text-align: right;\">\n",
       "      <th></th>\n",
       "      <th>Price</th>\n",
       "      <th>EPS (ttm)</th>\n",
       "    </tr>\n",
       "  </thead>\n",
       "  <tbody>\n",
       "    <tr>\n",
       "      <th>Price</th>\n",
       "      <td>1.000000</td>\n",
       "      <td>0.753068</td>\n",
       "    </tr>\n",
       "    <tr>\n",
       "      <th>EPS (ttm)</th>\n",
       "      <td>0.753068</td>\n",
       "      <td>1.000000</td>\n",
       "    </tr>\n",
       "  </tbody>\n",
       "</table>\n",
       "</div>"
      ],
      "text/plain": [
       "              Price  EPS (ttm)\n",
       "Price      1.000000   0.753068\n",
       "EPS (ttm)  0.753068   1.000000"
      ]
     },
     "execution_count": 19,
     "metadata": {},
     "output_type": "execute_result"
    }
   ],
   "source": [
    "df[['Price','EPS (ttm)']].corr()"
   ]
  },
  {
   "cell_type": "markdown",
   "metadata": {},
   "source": [
    "Lastly, the Target Price column is highly correlated with Price."
   ]
  },
  {
   "cell_type": "code",
   "execution_count": 20,
   "metadata": {},
   "outputs": [
    {
     "data": {
      "text/html": [
       "<div>\n",
       "<style>\n",
       "    .dataframe thead tr:only-child th {\n",
       "        text-align: right;\n",
       "    }\n",
       "\n",
       "    .dataframe thead th {\n",
       "        text-align: left;\n",
       "    }\n",
       "\n",
       "    .dataframe tbody tr th {\n",
       "        vertical-align: top;\n",
       "    }\n",
       "</style>\n",
       "<table border=\"1\" class=\"dataframe\">\n",
       "  <thead>\n",
       "    <tr style=\"text-align: right;\">\n",
       "      <th></th>\n",
       "      <th>Price</th>\n",
       "      <th>Target Price</th>\n",
       "    </tr>\n",
       "  </thead>\n",
       "  <tbody>\n",
       "    <tr>\n",
       "      <th>Price</th>\n",
       "      <td>1.000000</td>\n",
       "      <td>0.994728</td>\n",
       "    </tr>\n",
       "    <tr>\n",
       "      <th>Target Price</th>\n",
       "      <td>0.994728</td>\n",
       "      <td>1.000000</td>\n",
       "    </tr>\n",
       "  </tbody>\n",
       "</table>\n",
       "</div>"
      ],
      "text/plain": [
       "                 Price  Target Price\n",
       "Price         1.000000      0.994728\n",
       "Target Price  0.994728      1.000000"
      ]
     },
     "execution_count": 20,
     "metadata": {},
     "output_type": "execute_result"
    }
   ],
   "source": [
    "df[['Price','Target Price']].corr()"
   ]
  },
  {
   "cell_type": "markdown",
   "metadata": {},
   "source": [
    "The Target Price is the mean price target from analysts.\n",
    "\n",
    "I believe that analysts are basing their targets off of the current stock price. Hence, target price is a function of current price.\n",
    "\n",
    "Here's a scatter plot, with regression line, showing this relationship."
   ]
  },
  {
   "cell_type": "code",
   "execution_count": 21,
   "metadata": {
    "collapsed": true
   },
   "outputs": [],
   "source": [
    "from scipy.stats import linregress\n",
    "x = df.loc[~df['Target Price'].isnull(),'Target Price']\n",
    "y = df.loc[~df['Target Price'].isnull(),'Price']\n",
    "\n",
    "lr = linregress(x,y)\n",
    "yhat = lr.intercept + x * lr.slope"
   ]
  },
  {
   "cell_type": "code",
   "execution_count": 22,
   "metadata": {},
   "outputs": [
    {
     "data": {
      "image/png": "[encoded data removed]",
      "text/plain": [
       "<matplotlib.figure.Figure at 0x261e18132e8>"
      ]
     },
     "metadata": {},
     "output_type": "display_data"
    }
   ],
   "source": [
    "plt.plot(x,y,'co',alpha = 0.5)\n",
    "plt.plot(x,yhat,'k--')\n",
    "plt.xlabel('Target Price')\n",
    "plt.ylabel('Price')\n",
    "plt.annotate(\"R-Squared: %f\" % (lr.rvalue),(1.5,1250))\n",
    "plt.show()"
   ]
  },
  {
   "cell_type": "markdown",
   "metadata": {},
   "source": [
    "## Categorical Variables"
   ]
  },
  {
   "cell_type": "markdown",
   "metadata": {},
   "source": [
    "Optionable, Shortable, DJIA, Earnings_BMO and Earnings_AMC are all categorical/indicator variables in the dataset.\n",
    "\n",
    "Here are summary statistics."
   ]
  },
  {
   "cell_type": "code",
   "execution_count": 29,
   "metadata": {},
   "outputs": [
    {
     "data": {
      "text/html": [
       "<div>\n",
       "<style>\n",
       "    .dataframe thead tr:only-child th {\n",
       "        text-align: right;\n",
       "    }\n",
       "\n",
       "    .dataframe thead th {\n",
       "        text-align: left;\n",
       "    }\n",
       "\n",
       "    .dataframe tbody tr th {\n",
       "        vertical-align: top;\n",
       "    }\n",
       "</style>\n",
       "<table border=\"1\" class=\"dataframe\">\n",
       "  <thead>\n",
       "    <tr style=\"text-align: right;\">\n",
       "      <th></th>\n",
       "      <th>Optionable</th>\n",
       "      <th>Shortable</th>\n",
       "      <th>DJIA</th>\n",
       "      <th>Earnings_BMO</th>\n",
       "      <th>Earnings_AMC</th>\n",
       "    </tr>\n",
       "  </thead>\n",
       "  <tbody>\n",
       "    <tr>\n",
       "      <th>count</th>\n",
       "      <td>505.0</td>\n",
       "      <td>505.000000</td>\n",
       "      <td>505.000000</td>\n",
       "      <td>505.000000</td>\n",
       "      <td>505.000000</td>\n",
       "    </tr>\n",
       "    <tr>\n",
       "      <th>mean</th>\n",
       "      <td>1.0</td>\n",
       "      <td>0.996040</td>\n",
       "      <td>0.059406</td>\n",
       "      <td>0.594059</td>\n",
       "      <td>0.403960</td>\n",
       "    </tr>\n",
       "    <tr>\n",
       "      <th>std</th>\n",
       "      <td>0.0</td>\n",
       "      <td>0.062869</td>\n",
       "      <td>0.236617</td>\n",
       "      <td>0.491560</td>\n",
       "      <td>0.491176</td>\n",
       "    </tr>\n",
       "    <tr>\n",
       "      <th>min</th>\n",
       "      <td>1.0</td>\n",
       "      <td>0.000000</td>\n",
       "      <td>0.000000</td>\n",
       "      <td>0.000000</td>\n",
       "      <td>0.000000</td>\n",
       "    </tr>\n",
       "    <tr>\n",
       "      <th>25%</th>\n",
       "      <td>1.0</td>\n",
       "      <td>1.000000</td>\n",
       "      <td>0.000000</td>\n",
       "      <td>0.000000</td>\n",
       "      <td>0.000000</td>\n",
       "    </tr>\n",
       "    <tr>\n",
       "      <th>50%</th>\n",
       "      <td>1.0</td>\n",
       "      <td>1.000000</td>\n",
       "      <td>0.000000</td>\n",
       "      <td>1.000000</td>\n",
       "      <td>0.000000</td>\n",
       "    </tr>\n",
       "    <tr>\n",
       "      <th>75%</th>\n",
       "      <td>1.0</td>\n",
       "      <td>1.000000</td>\n",
       "      <td>0.000000</td>\n",
       "      <td>1.000000</td>\n",
       "      <td>1.000000</td>\n",
       "    </tr>\n",
       "    <tr>\n",
       "      <th>max</th>\n",
       "      <td>1.0</td>\n",
       "      <td>1.000000</td>\n",
       "      <td>1.000000</td>\n",
       "      <td>1.000000</td>\n",
       "      <td>1.000000</td>\n",
       "    </tr>\n",
       "  </tbody>\n",
       "</table>\n",
       "</div>"
      ],
      "text/plain": [
       "       Optionable   Shortable        DJIA  Earnings_BMO  Earnings_AMC\n",
       "count       505.0  505.000000  505.000000    505.000000    505.000000\n",
       "mean          1.0    0.996040    0.059406      0.594059      0.403960\n",
       "std           0.0    0.062869    0.236617      0.491560      0.491176\n",
       "min           1.0    0.000000    0.000000      0.000000      0.000000\n",
       "25%           1.0    1.000000    0.000000      0.000000      0.000000\n",
       "50%           1.0    1.000000    0.000000      1.000000      0.000000\n",
       "75%           1.0    1.000000    0.000000      1.000000      1.000000\n",
       "max           1.0    1.000000    1.000000      1.000000      1.000000"
      ]
     },
     "execution_count": 29,
     "metadata": {},
     "output_type": "execute_result"
    }
   ],
   "source": [
    "df[['Optionable','Shortable','DJIA','Earnings_BMO','Earnings_AMC']].describe()"
   ]
  },
  {
   "cell_type": "markdown",
   "metadata": {},
   "source": [
    "Optionable only takes on the value 1, and there are only 2 S&P 500 stocks that aren't shortable."
   ]
  },
  {
   "cell_type": "code",
   "execution_count": 32,
   "metadata": {},
   "outputs": [
    {
     "data": {
      "text/plain": [
       "1    503\n",
       "0      2\n",
       "Name: Shortable, dtype: int64"
      ]
     },
     "execution_count": 32,
     "metadata": {},
     "output_type": "execute_result"
    }
   ],
   "source": [
    "df['Shortable'].value_counts()"
   ]
  },
  {
   "cell_type": "markdown",
   "metadata": {},
   "source": [
    "Still, I can see how Dow membership or the type of earnings announcement affect yearly performance."
   ]
  },
  {
   "cell_type": "code",
   "execution_count": 40,
   "metadata": {},
   "outputs": [
    {
     "data": {
      "image/png": "[encoded data removed]",
      "text/plain": [
       "<matplotlib.figure.Figure at 0x261e0151b70>"
      ]
     },
     "metadata": {},
     "output_type": "display_data"
    }
   ],
   "source": [
    "import warnings\n",
    "warnings.simplefilter('ignore')\n",
    "df.boxplot('Perf Year',by='DJIA',grid=False)\n",
    "plt.xticks([1,2],['Not DJIA','DJIA'])\n",
    "plt.xlabel('')\n",
    "plt.title('')\n",
    "plt.ylabel('Perf Year')\n",
    "plt.suptitle('')\n",
    "plt.show()"
   ]
  },
  {
   "cell_type": "markdown",
   "metadata": {},
   "source": [
    "On average Dow members have a higher mean performance, though there are several outliers, which aren't Dow members, which outperform the Dow members."
   ]
  },
  {
   "cell_type": "code",
   "execution_count": 41,
   "metadata": {},
   "outputs": [
    {
     "data": {
      "image/png": "[encoded data removed]",
      "text/plain": [
       "<matplotlib.figure.Figure at 0x261e26495c0>"
      ]
     },
     "metadata": {},
     "output_type": "display_data"
    }
   ],
   "source": [
    "warnings.simplefilter('ignore')\n",
    "df.boxplot('Perf Year',by='Earnings_BMO',grid=False)\n",
    "plt.xticks([1,2],['Not BMO','BMO'])\n",
    "plt.title('')\n",
    "plt.xlabel('')\n",
    "plt.ylabel('Perf Year')\n",
    "plt.suptitle('')\n",
    "plt.show()"
   ]
  },
  {
   "cell_type": "markdown",
   "metadata": {},
   "source": [
    "There doesn't appear to be much of a difference between stocks with earnings announced before the market opens (BMO) and stocks that don't announce earnings BMO."
   ]
  },
  {
   "cell_type": "markdown",
   "metadata": {},
   "source": [
    "## Conclusion\n"
   ]
  },
  {
   "cell_type": "markdown",
   "metadata": {
    "collapsed": true
   },
   "source": [
    "I've learned a fair amount about this dataset (and about plotting too). Summarizing everything,\n",
    "\n",
    "* FOSL had the best yearly performance.\n",
    "* DLPH had the worst yearly performance.\n",
    "* Half-year performance, 52 Week High, 52 Week Low, Percentage above the 200 day simple moving average are all correlated with yearly performance.\n",
    "* The Previous Close, Dividend, ATR, EPS next year, EPS this year and Target Price are correlatd with a stock's price.\n",
    "* Dow members perform better than non-Dow members, on average.\n",
    "* The timing of an earnings announcement (alone) has little to no effect on yearly performance.\n",
    "\n",
    "In the next project, I'll use this dataset one last time to do some Clustering.\n",
    "\n",
    "Thanks for reading."
   ]
  },
  {
   "cell_type": "code",
   "execution_count": null,
   "metadata": {
    "collapsed": true
   },
   "outputs": [],
   "source": []
  }
 ],
 "metadata": {
  "kernelspec": {
   "display_name": "Python 3",
   "language": "python",
   "name": "python3"
  },
  "language_info": {
   "codemirror_mode": {
    "name": "ipython",
    "version": 3
   },
   "file_extension": ".py",
   "mimetype": "text/x-python",
   "name": "python",
   "nbconvert_exporter": "python",
   "pygments_lexer": "ipython3",
   "version": "3.6.1"
  }
 },
 "nbformat": 4,
 "nbformat_minor": 2
}
